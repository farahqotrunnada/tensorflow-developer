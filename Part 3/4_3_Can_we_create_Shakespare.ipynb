{
  "nbformat": 4,
  "nbformat_minor": 0,
  "metadata": {
    "accelerator": "GPU",
    "colab": {
      "name": "4_3 Can we create Shakespare",
      "provenance": [],
      "toc_visible": true,
      "include_colab_link": true
    },
    "kernelspec": {
      "display_name": "Python 3",
      "name": "python3"
    }
  },
  "cells": [
    {
      "cell_type": "markdown",
      "metadata": {
        "id": "view-in-github",
        "colab_type": "text"
      },
      "source": [
        "<a href=\"https://colab.research.google.com/github/farahqotrunnada/tensorflow-developer/blob/main/Part%203/4_3_Can_we_create_Shakespare.ipynb\" target=\"_parent\"><img src=\"https://colab.research.google.com/assets/colab-badge.svg\" alt=\"Open In Colab\"/></a>"
      ]
    },
    {
      "cell_type": "code",
      "metadata": {
        "id": "zX4Kg8DUTKWO"
      },
      "source": [
        "#@title Licensed under the Apache License, Version 2.0 (the \"License\");\n",
        "# you may not use this file except in compliance with the License.\n",
        "# You may obtain a copy of the License at\n",
        "#\n",
        "# https://www.apache.org/licenses/LICENSE-2.0\n",
        "#\n",
        "# Unless required by applicable law or agreed to in writing, software\n",
        "# distributed under the License is distributed on an \"AS IS\" BASIS,\n",
        "# WITHOUT WARRANTIES OR CONDITIONS OF ANY KIND, either express or implied.\n",
        "# See the License for the specific language governing permissions and\n",
        "# limitations under the License."
      ],
      "execution_count": null,
      "outputs": []
    },
    {
      "cell_type": "code",
      "metadata": {
        "id": "BOwsuGQQY9OL"
      },
      "source": [
        "from tensorflow.keras.preprocessing.sequence import pad_sequences\n",
        "from tensorflow.keras.layers import Embedding, LSTM, Dense, Dropout, Bidirectional\n",
        "from tensorflow.keras.preprocessing.text import Tokenizer\n",
        "from tensorflow.keras.models import Sequential\n",
        "from tensorflow.keras.optimizers import Adam\n",
        "from tensorflow.keras import regularizers\n",
        "import tensorflow.keras.utils as ku \n",
        "import numpy as np "
      ],
      "execution_count": null,
      "outputs": []
    },
    {
      "cell_type": "code",
      "metadata": {
        "colab": {
          "base_uri": "https://localhost:8080/"
        },
        "id": "PRnDnCW-Z7qv",
        "outputId": "4c48624c-72f5-4222-efe5-8c8d489a7cb9"
      },
      "source": [
        "tokenizer = Tokenizer()\n",
        "!wget --no-check-certificate \\\n",
        "    https://storage.googleapis.com/laurencemoroney-blog.appspot.com/sonnets.txt \\\n",
        "    -O /tmp/sonnets.txt\n",
        "data = open('/tmp/sonnets.txt').read()\n",
        "\n",
        "corpus = data.lower().split(\"\\n\")\n",
        "\n",
        "\n",
        "tokenizer.fit_on_texts(corpus)\n",
        "total_words = len(tokenizer.word_index) + 1\n",
        "\n",
        "# create input sequences using list of tokens\n",
        "input_sequences = []\n",
        "for line in corpus:\n",
        "\ttoken_list = tokenizer.texts_to_sequences([line])[0]\n",
        "\tfor i in range(1, len(token_list)):\n",
        "\t\tn_gram_sequence = token_list[:i+1]\n",
        "\t\tinput_sequences.append(n_gram_sequence)\n",
        "\n",
        "\n",
        "# pad sequences \n",
        "max_sequence_len = max([len(x) for x in input_sequences])\n",
        "input_sequences = np.array(pad_sequences(input_sequences, maxlen=max_sequence_len, padding='pre'))\n",
        "\n",
        "# create predictors and label\n",
        "predictors, label = input_sequences[:,:-1],input_sequences[:,-1]\n",
        "\n",
        "label = ku.to_categorical(label, num_classes=total_words)"
      ],
      "execution_count": null,
      "outputs": [
        {
          "output_type": "stream",
          "text": [
            "--2021-04-24 06:33:48--  https://storage.googleapis.com/laurencemoroney-blog.appspot.com/sonnets.txt\n",
            "Resolving storage.googleapis.com (storage.googleapis.com)... 74.125.20.128, 108.177.98.128, 74.125.135.128, ...\n",
            "Connecting to storage.googleapis.com (storage.googleapis.com)|74.125.20.128|:443... connected.\n",
            "HTTP request sent, awaiting response... 200 OK\n",
            "Length: 93578 (91K) [text/plain]\n",
            "Saving to: ‘/tmp/sonnets.txt’\n",
            "\n",
            "\r/tmp/sonnets.txt      0%[                    ]       0  --.-KB/s               \r/tmp/sonnets.txt    100%[===================>]  91.38K  --.-KB/s    in 0.001s  \n",
            "\n",
            "2021-04-24 06:33:48 (109 MB/s) - ‘/tmp/sonnets.txt’ saved [93578/93578]\n",
            "\n"
          ],
          "name": "stdout"
        }
      ]
    },
    {
      "cell_type": "code",
      "metadata": {
        "colab": {
          "base_uri": "https://localhost:8080/"
        },
        "id": "w9vH8Y59ajYL",
        "outputId": "341f8aff-eb2e-444e-c33a-e89d0fb51521"
      },
      "source": [
        "model = Sequential()\n",
        "model.add(Embedding(total_words, 100, input_length=max_sequence_len-1))\n",
        "model.add(Bidirectional(LSTM(150, return_sequences = True)))\n",
        "model.add(Dropout(0.2))\n",
        "model.add(LSTM(100))\n",
        "model.add(Dense(total_words/2, activation='relu', kernel_regularizer=regularizers.l2(0.01)))\n",
        "model.add(Dense(total_words, activation='softmax'))\n",
        "model.compile(loss='categorical_crossentropy', optimizer='adam', metrics=['accuracy'])\n",
        "print(model.summary())\n"
      ],
      "execution_count": null,
      "outputs": [
        {
          "output_type": "stream",
          "text": [
            "Model: \"sequential\"\n",
            "_________________________________________________________________\n",
            "Layer (type)                 Output Shape              Param #   \n",
            "=================================================================\n",
            "embedding (Embedding)        (None, 10, 100)           321100    \n",
            "_________________________________________________________________\n",
            "bidirectional (Bidirectional (None, 10, 300)           301200    \n",
            "_________________________________________________________________\n",
            "dropout (Dropout)            (None, 10, 300)           0         \n",
            "_________________________________________________________________\n",
            "lstm_1 (LSTM)                (None, 100)               160400    \n",
            "_________________________________________________________________\n",
            "dense (Dense)                (None, 1605)              162105    \n",
            "_________________________________________________________________\n",
            "dense_1 (Dense)              (None, 3211)              5156866   \n",
            "=================================================================\n",
            "Total params: 6,101,671\n",
            "Trainable params: 6,101,671\n",
            "Non-trainable params: 0\n",
            "_________________________________________________________________\n",
            "None\n"
          ],
          "name": "stdout"
        }
      ]
    },
    {
      "cell_type": "code",
      "metadata": {
        "colab": {
          "base_uri": "https://localhost:8080/"
        },
        "id": "AIg2f1HBxqof",
        "outputId": "fe2d88b1-741e-4ef3-cd58-99fe64dddd7b"
      },
      "source": [
        " history = model.fit(predictors, label, epochs=100, verbose=1)"
      ],
      "execution_count": null,
      "outputs": [
        {
          "output_type": "stream",
          "text": [
            "Epoch 1/100\n",
            "484/484 [==============================] - 41s 13ms/step - loss: 7.3565 - accuracy: 0.0204\n",
            "Epoch 2/100\n",
            "484/484 [==============================] - 6s 13ms/step - loss: 6.4597 - accuracy: 0.0209\n",
            "Epoch 3/100\n",
            "484/484 [==============================] - 6s 13ms/step - loss: 6.4011 - accuracy: 0.0220\n",
            "Epoch 4/100\n",
            "484/484 [==============================] - 6s 13ms/step - loss: 6.2692 - accuracy: 0.0267\n",
            "Epoch 5/100\n",
            "484/484 [==============================] - 6s 13ms/step - loss: 6.1667 - accuracy: 0.0323\n",
            "Epoch 6/100\n",
            "484/484 [==============================] - 6s 13ms/step - loss: 6.0444 - accuracy: 0.0380\n",
            "Epoch 7/100\n",
            "484/484 [==============================] - 6s 13ms/step - loss: 5.9682 - accuracy: 0.0412\n",
            "Epoch 8/100\n",
            "484/484 [==============================] - 6s 13ms/step - loss: 5.8716 - accuracy: 0.0461\n",
            "Epoch 9/100\n",
            "484/484 [==============================] - 6s 13ms/step - loss: 5.7721 - accuracy: 0.0525\n",
            "Epoch 10/100\n",
            "484/484 [==============================] - 6s 13ms/step - loss: 5.6910 - accuracy: 0.0595\n",
            "Epoch 11/100\n",
            "484/484 [==============================] - 6s 13ms/step - loss: 5.5825 - accuracy: 0.0620\n",
            "Epoch 12/100\n",
            "484/484 [==============================] - 6s 13ms/step - loss: 5.4532 - accuracy: 0.0743\n",
            "Epoch 13/100\n",
            "484/484 [==============================] - 6s 13ms/step - loss: 5.3256 - accuracy: 0.0754\n",
            "Epoch 14/100\n",
            "484/484 [==============================] - 6s 13ms/step - loss: 5.2175 - accuracy: 0.0864\n",
            "Epoch 15/100\n",
            "484/484 [==============================] - 6s 13ms/step - loss: 5.1132 - accuracy: 0.0941\n",
            "Epoch 16/100\n",
            "484/484 [==============================] - 6s 13ms/step - loss: 5.0182 - accuracy: 0.1006\n",
            "Epoch 17/100\n",
            "484/484 [==============================] - 6s 13ms/step - loss: 4.8995 - accuracy: 0.1099\n",
            "Epoch 18/100\n",
            "484/484 [==============================] - 6s 13ms/step - loss: 4.7713 - accuracy: 0.1207\n",
            "Epoch 19/100\n",
            "484/484 [==============================] - 6s 13ms/step - loss: 4.7219 - accuracy: 0.1249\n",
            "Epoch 20/100\n",
            "484/484 [==============================] - 6s 13ms/step - loss: 4.6177 - accuracy: 0.1368\n",
            "Epoch 21/100\n",
            "484/484 [==============================] - 6s 13ms/step - loss: 4.5148 - accuracy: 0.1458\n",
            "Epoch 22/100\n",
            "484/484 [==============================] - 6s 13ms/step - loss: 4.4261 - accuracy: 0.1514\n",
            "Epoch 23/100\n",
            "484/484 [==============================] - 6s 13ms/step - loss: 4.2936 - accuracy: 0.1706\n",
            "Epoch 24/100\n",
            "484/484 [==============================] - 6s 13ms/step - loss: 4.2005 - accuracy: 0.1775\n",
            "Epoch 25/100\n",
            "484/484 [==============================] - 6s 13ms/step - loss: 4.1050 - accuracy: 0.1915\n",
            "Epoch 26/100\n",
            "484/484 [==============================] - 6s 13ms/step - loss: 3.9979 - accuracy: 0.2024\n",
            "Epoch 27/100\n",
            "484/484 [==============================] - 6s 13ms/step - loss: 3.8879 - accuracy: 0.2230\n",
            "Epoch 28/100\n",
            "484/484 [==============================] - 6s 13ms/step - loss: 3.7958 - accuracy: 0.2431\n",
            "Epoch 29/100\n",
            "484/484 [==============================] - 6s 13ms/step - loss: 3.6821 - accuracy: 0.2663\n",
            "Epoch 30/100\n",
            "484/484 [==============================] - 6s 13ms/step - loss: 3.6029 - accuracy: 0.2871\n",
            "Epoch 31/100\n",
            "484/484 [==============================] - 6s 13ms/step - loss: 3.5019 - accuracy: 0.3090\n",
            "Epoch 32/100\n",
            "484/484 [==============================] - 6s 13ms/step - loss: 3.4443 - accuracy: 0.3175\n",
            "Epoch 33/100\n",
            "484/484 [==============================] - 6s 13ms/step - loss: 3.3147 - accuracy: 0.3489\n",
            "Epoch 34/100\n",
            "484/484 [==============================] - 6s 13ms/step - loss: 3.2434 - accuracy: 0.3690\n",
            "Epoch 35/100\n",
            "484/484 [==============================] - 6s 13ms/step - loss: 3.1735 - accuracy: 0.3890\n",
            "Epoch 36/100\n",
            "484/484 [==============================] - 6s 13ms/step - loss: 3.1144 - accuracy: 0.4000\n",
            "Epoch 37/100\n",
            "484/484 [==============================] - 6s 13ms/step - loss: 3.0372 - accuracy: 0.4170\n",
            "Epoch 38/100\n",
            "484/484 [==============================] - 6s 13ms/step - loss: 2.9547 - accuracy: 0.4312\n",
            "Epoch 39/100\n",
            "484/484 [==============================] - 6s 13ms/step - loss: 2.8743 - accuracy: 0.4499\n",
            "Epoch 40/100\n",
            "484/484 [==============================] - 6s 13ms/step - loss: 2.8093 - accuracy: 0.4621\n",
            "Epoch 41/100\n",
            "484/484 [==============================] - 6s 13ms/step - loss: 2.7687 - accuracy: 0.4673\n",
            "Epoch 42/100\n",
            "484/484 [==============================] - 6s 13ms/step - loss: 2.6664 - accuracy: 0.4916\n",
            "Epoch 43/100\n",
            "484/484 [==============================] - 6s 13ms/step - loss: 2.5980 - accuracy: 0.5162\n",
            "Epoch 44/100\n",
            "484/484 [==============================] - 6s 13ms/step - loss: 2.5823 - accuracy: 0.5204\n",
            "Epoch 45/100\n",
            "484/484 [==============================] - 6s 13ms/step - loss: 2.5237 - accuracy: 0.5261\n",
            "Epoch 46/100\n",
            "484/484 [==============================] - 6s 13ms/step - loss: 2.4404 - accuracy: 0.5425\n",
            "Epoch 47/100\n",
            "484/484 [==============================] - 6s 13ms/step - loss: 2.3767 - accuracy: 0.5543\n",
            "Epoch 48/100\n",
            "484/484 [==============================] - 6s 13ms/step - loss: 2.3709 - accuracy: 0.5621\n",
            "Epoch 49/100\n",
            "484/484 [==============================] - 6s 13ms/step - loss: 2.2877 - accuracy: 0.5810\n",
            "Epoch 50/100\n",
            "484/484 [==============================] - 6s 13ms/step - loss: 2.2559 - accuracy: 0.5849\n",
            "Epoch 51/100\n",
            "484/484 [==============================] - 6s 13ms/step - loss: 2.1883 - accuracy: 0.5971\n",
            "Epoch 52/100\n",
            "484/484 [==============================] - 6s 13ms/step - loss: 2.1885 - accuracy: 0.5995\n",
            "Epoch 53/100\n",
            "484/484 [==============================] - 6s 13ms/step - loss: 2.0937 - accuracy: 0.6199\n",
            "Epoch 54/100\n",
            "484/484 [==============================] - 6s 13ms/step - loss: 2.0584 - accuracy: 0.6275\n",
            "Epoch 55/100\n",
            "484/484 [==============================] - 6s 13ms/step - loss: 2.0074 - accuracy: 0.6406\n",
            "Epoch 56/100\n",
            "484/484 [==============================] - 6s 13ms/step - loss: 2.0125 - accuracy: 0.6359\n",
            "Epoch 57/100\n",
            "484/484 [==============================] - 6s 13ms/step - loss: 1.9463 - accuracy: 0.6511\n",
            "Epoch 58/100\n",
            "484/484 [==============================] - 6s 13ms/step - loss: 1.9390 - accuracy: 0.6545\n",
            "Epoch 59/100\n",
            "484/484 [==============================] - 6s 13ms/step - loss: 1.8825 - accuracy: 0.6707\n",
            "Epoch 60/100\n",
            "484/484 [==============================] - 6s 13ms/step - loss: 1.8850 - accuracy: 0.6617\n",
            "Epoch 61/100\n",
            "484/484 [==============================] - 6s 13ms/step - loss: 1.8259 - accuracy: 0.6752\n",
            "Epoch 62/100\n",
            "484/484 [==============================] - 6s 13ms/step - loss: 1.7788 - accuracy: 0.6906\n",
            "Epoch 63/100\n",
            "484/484 [==============================] - 6s 13ms/step - loss: 1.7637 - accuracy: 0.6893\n",
            "Epoch 64/100\n",
            "484/484 [==============================] - 6s 13ms/step - loss: 1.7309 - accuracy: 0.6937\n",
            "Epoch 65/100\n",
            "484/484 [==============================] - 6s 13ms/step - loss: 1.7017 - accuracy: 0.7007\n",
            "Epoch 66/100\n",
            "484/484 [==============================] - 6s 13ms/step - loss: 1.6827 - accuracy: 0.7072\n",
            "Epoch 67/100\n",
            "484/484 [==============================] - 6s 13ms/step - loss: 1.6765 - accuracy: 0.7092\n",
            "Epoch 68/100\n",
            "484/484 [==============================] - 6s 13ms/step - loss: 1.6321 - accuracy: 0.7174\n",
            "Epoch 69/100\n",
            "484/484 [==============================] - 6s 13ms/step - loss: 1.6023 - accuracy: 0.7247\n",
            "Epoch 70/100\n",
            "484/484 [==============================] - 6s 13ms/step - loss: 1.5832 - accuracy: 0.7229\n",
            "Epoch 71/100\n",
            "484/484 [==============================] - 6s 13ms/step - loss: 1.5495 - accuracy: 0.7273\n",
            "Epoch 72/100\n",
            "484/484 [==============================] - 6s 13ms/step - loss: 1.5284 - accuracy: 0.7337\n",
            "Epoch 73/100\n",
            "484/484 [==============================] - 6s 13ms/step - loss: 1.5316 - accuracy: 0.7333\n",
            "Epoch 74/100\n",
            "484/484 [==============================] - 6s 13ms/step - loss: 1.4846 - accuracy: 0.7411\n",
            "Epoch 75/100\n",
            "484/484 [==============================] - 6s 13ms/step - loss: 1.4730 - accuracy: 0.7420\n",
            "Epoch 76/100\n",
            "484/484 [==============================] - 6s 13ms/step - loss: 1.4497 - accuracy: 0.7496\n",
            "Epoch 77/100\n",
            "484/484 [==============================] - 6s 13ms/step - loss: 1.4351 - accuracy: 0.7521\n",
            "Epoch 78/100\n",
            "484/484 [==============================] - 6s 13ms/step - loss: 1.4185 - accuracy: 0.7568\n",
            "Epoch 79/100\n",
            "484/484 [==============================] - 6s 13ms/step - loss: 1.3851 - accuracy: 0.7628\n",
            "Epoch 80/100\n",
            "484/484 [==============================] - 6s 13ms/step - loss: 1.3745 - accuracy: 0.7621\n",
            "Epoch 81/100\n",
            "484/484 [==============================] - 6s 13ms/step - loss: 1.3419 - accuracy: 0.7731\n",
            "Epoch 82/100\n",
            "484/484 [==============================] - 6s 13ms/step - loss: 1.3502 - accuracy: 0.7698\n",
            "Epoch 83/100\n",
            "484/484 [==============================] - 6s 13ms/step - loss: 1.3316 - accuracy: 0.7730\n",
            "Epoch 84/100\n",
            "484/484 [==============================] - 6s 13ms/step - loss: 1.2803 - accuracy: 0.7834\n",
            "Epoch 85/100\n",
            "484/484 [==============================] - 6s 13ms/step - loss: 1.2936 - accuracy: 0.7788\n",
            "Epoch 86/100\n",
            "484/484 [==============================] - 6s 13ms/step - loss: 1.2945 - accuracy: 0.7749\n",
            "Epoch 87/100\n",
            "484/484 [==============================] - 6s 13ms/step - loss: 1.2960 - accuracy: 0.7774\n",
            "Epoch 88/100\n",
            "484/484 [==============================] - 6s 13ms/step - loss: 1.2485 - accuracy: 0.7865\n",
            "Epoch 89/100\n",
            "484/484 [==============================] - 6s 13ms/step - loss: 1.2633 - accuracy: 0.7814\n",
            "Epoch 90/100\n",
            "484/484 [==============================] - 6s 13ms/step - loss: 1.2233 - accuracy: 0.7880\n",
            "Epoch 91/100\n",
            "484/484 [==============================] - 6s 13ms/step - loss: 1.2179 - accuracy: 0.7924\n",
            "Epoch 92/100\n",
            "484/484 [==============================] - 6s 13ms/step - loss: 1.2019 - accuracy: 0.7938\n",
            "Epoch 93/100\n",
            "484/484 [==============================] - 6s 13ms/step - loss: 1.1846 - accuracy: 0.7984\n",
            "Epoch 94/100\n",
            "484/484 [==============================] - 6s 13ms/step - loss: 1.1771 - accuracy: 0.7977\n",
            "Epoch 95/100\n",
            "484/484 [==============================] - 6s 13ms/step - loss: 1.1797 - accuracy: 0.7994\n",
            "Epoch 96/100\n",
            "484/484 [==============================] - 6s 13ms/step - loss: 1.1659 - accuracy: 0.8008\n",
            "Epoch 97/100\n",
            "484/484 [==============================] - 6s 13ms/step - loss: 1.1493 - accuracy: 0.8020\n",
            "Epoch 98/100\n",
            "484/484 [==============================] - 6s 13ms/step - loss: 1.1524 - accuracy: 0.7982\n",
            "Epoch 99/100\n",
            "484/484 [==============================] - 6s 13ms/step - loss: 1.1166 - accuracy: 0.8106\n",
            "Epoch 100/100\n",
            "484/484 [==============================] - 6s 13ms/step - loss: 1.1332 - accuracy: 0.8007\n"
          ],
          "name": "stdout"
        }
      ]
    },
    {
      "cell_type": "code",
      "metadata": {
        "colab": {
          "base_uri": "https://localhost:8080/",
          "height": 545
        },
        "id": "1fXTEO3GJ282",
        "outputId": "a0bd3b94-cd8c-414d-a19a-9e14fd4e5f03"
      },
      "source": [
        "import matplotlib.pyplot as plt\n",
        "acc = history.history['accuracy']\n",
        "loss = history.history['loss']\n",
        "\n",
        "epochs = range(len(acc))\n",
        "\n",
        "plt.plot(epochs, acc, 'b', label='Training accuracy')\n",
        "plt.title('Training accuracy')\n",
        "\n",
        "plt.figure()\n",
        "\n",
        "plt.plot(epochs, loss, 'b', label='Training Loss')\n",
        "plt.title('Training loss')\n",
        "plt.legend()\n",
        "\n",
        "plt.show()"
      ],
      "execution_count": null,
      "outputs": [
        {
          "output_type": "display_data",
          "data": {
            "image/png": "[encoded data removed]",
            "text/plain": [
              "<Figure size 432x288 with 1 Axes>"
            ]
          },
          "metadata": {
            "tags": [],
            "needs_background": "light"
          }
        },
        {
          "output_type": "display_data",
          "data": {
            "image/png": "[encoded data removed]",
            "text/plain": [
              "<Figure size 432x288 with 1 Axes>"
            ]
          },
          "metadata": {
            "tags": [],
            "needs_background": "light"
          }
        }
      ]
    },
    {
      "cell_type": "code",
      "metadata": {
        "colab": {
          "base_uri": "https://localhost:8080/"
        },
        "id": "6Vc6PHgxa6Hm",
        "outputId": "b97a15e4-1995-4b18-9c7e-b84e97248e1f"
      },
      "source": [
        "seed_text = \"Help me Obi Wan Kenobi, you're my only hope\"\n",
        "next_words = 100\n",
        "  \n",
        "for _ in range(next_words):\n",
        "\ttoken_list = tokenizer.texts_to_sequences([seed_text])[0]\n",
        "\ttoken_list = pad_sequences([token_list], maxlen=max_sequence_len-1, padding='pre')\n",
        "\tpredicted = model.predict_classes(token_list, verbose=0)\n",
        "\toutput_word = \"\"\n",
        "\tfor word, index in tokenizer.word_index.items():\n",
        "\t\tif index == predicted:\n",
        "\t\t\toutput_word = word\n",
        "\t\t\tbreak\n",
        "\tseed_text += \" \" + output_word\n",
        "print(seed_text)"
      ],
      "execution_count": null,
      "outputs": [
        {
          "output_type": "stream",
          "text": [
            "/usr/local/lib/python3.7/dist-packages/tensorflow/python/keras/engine/sequential.py:450: UserWarning: `model.predict_classes()` is deprecated and will be removed after 2021-01-01. Please use instead:* `np.argmax(model.predict(x), axis=-1)`,   if your model does multi-class classification   (e.g. if it uses a `softmax` last-layer activation).* `(model.predict(x) > 0.5).astype(\"int32\")`,   if your model does binary classification   (e.g. if it uses a `sigmoid` last-layer activation).\n",
            "  warnings.warn('`model.predict_classes()` is deprecated and '\n"
          ],
          "name": "stderr"
        },
        {
          "output_type": "stream",
          "text": [
            "Help me Obi Wan Kenobi, you're my only hope is steal love's state new this than thine eyes from she true loving loving prove spend sit give lie of me too new ' by swear true true much prove thee be shall seen prove show thee clouds be gentlest sight brings away were flowers be thereby days had flowers affords skill days graces back once moan the 'will ' new ' still she ever so such friend thee thee is unjust thine eyes she were abused thine own desert to give back converted made 'tis me be strong ward ' is men slain rare rare slain rehearse rehearse rare\n"
          ],
          "name": "stdout"
        }
      ]
    }
  ]
}