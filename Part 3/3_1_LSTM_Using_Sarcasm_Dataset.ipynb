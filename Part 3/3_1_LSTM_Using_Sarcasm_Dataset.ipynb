{
  "nbformat": 4,
  "nbformat_minor": 0,
  "metadata": {
    "accelerator": "GPU",
    "colab": {
      "name": "3_1_LSTM Using Sarcasm Dataset",
      "provenance": [],
      "collapsed_sections": [],
      "include_colab_link": true
    },
    "kernelspec": {
      "display_name": "Python 3",
      "language": "python",
      "name": "python3"
    },
    "language_info": {
      "codemirror_mode": {
        "name": "ipython",
        "version": 3
      },
      "file_extension": ".py",
      "mimetype": "text/x-python",
      "name": "python",
      "nbconvert_exporter": "python",
      "pygments_lexer": "ipython3",
      "version": "3.7.6"
    }
  },
  "cells": [
    {
      "cell_type": "markdown",
      "metadata": {
        "id": "view-in-github",
        "colab_type": "text"
      },
      "source": [
        "<a href=\"https://colab.research.google.com/github/farahqotrunnada/tensorflow-developer/blob/main/Part%203/3_1_LSTM_Using_Sarcasm_Dataset.ipynb\" target=\"_parent\"><img src=\"https://colab.research.google.com/assets/colab-badge.svg\" alt=\"Open In Colab\"/></a>"
      ]
    },
    {
      "cell_type": "code",
      "metadata": {
        "id": "zX4Kg8DUTKWO"
      },
      "source": [
        "#@title Licensed under the Apache License, Version 2.0 (the \"License\");\n",
        "# you may not use this file except in compliance with the License.\n",
        "# You may obtain a copy of the License at\n",
        "#\n",
        "# https://www.apache.org/licenses/LICENSE-2.0\n",
        "#\n",
        "# Unless required by applicable law or agreed to in writing, software\n",
        "# distributed under the License is distributed on an \"AS IS\" BASIS,\n",
        "# WITHOUT WARRANTIES OR CONDITIONS OF ANY KIND, either express or implied.\n",
        "# See the License for the specific language governing permissions and\n",
        "# limitations under the License."
      ],
      "execution_count": 1,
      "outputs": []
    },
    {
      "cell_type": "markdown",
      "metadata": {
        "id": "hpT032qrYghz"
      },
      "source": [
        "<a href=\"https://colab.research.google.com/github/lmoroney/dlaicourse/blob/master/TensorFlow%20In%20Practice/Course%203%20-%20NLP/Course%203%20-%20Week%203%20-%20Lesson%202.ipynb\" target=\"_parent\"><img src=\"https://colab.research.google.com/assets/colab-badge.svg\" alt=\"Open In Colab\"/></a>"
      ]
    },
    {
      "cell_type": "code",
      "metadata": {
        "id": "jGwXGIXvFhXW",
        "colab": {
          "base_uri": "https://localhost:8080/"
        },
        "outputId": "59e92e57-8c59-4259-f0a7-4d6bdb95951e"
      },
      "source": [
        "import numpy as np\n",
        "\n",
        "import json\n",
        "import tensorflow as tf\n",
        "\n",
        "from tensorflow.keras.preprocessing.text import Tokenizer\n",
        "from tensorflow.keras.preprocessing.sequence import pad_sequences\n",
        "\n",
        "!wget --no-check-certificate \\\n",
        "    https://storage.googleapis.com/laurencemoroney-blog.appspot.com/sarcasm.json \\\n",
        "    -O /tmp/sarcasm.json\n",
        "\n",
        "vocab_size = 1000\n",
        "embedding_dim = 16\n",
        "max_length = 120\n",
        "trunc_type='post'\n",
        "padding_type='post'\n",
        "oov_tok = \"<OOV>\"\n",
        "training_size = 20000\n",
        "\n",
        "\n",
        "with open(\"/tmp/sarcasm.json\", 'r') as f:\n",
        "    datastore = json.load(f)\n",
        "\n",
        "\n",
        "sentences = []\n",
        "labels = []\n",
        "urls = []\n",
        "for item in datastore:\n",
        "    sentences.append(item['headline'])\n",
        "    labels.append(item['is_sarcastic'])\n",
        "\n",
        "training_sentences = sentences[0:training_size]\n",
        "testing_sentences = sentences[training_size:]\n",
        "training_labels = labels[0:training_size]\n",
        "testing_labels = labels[training_size:]\n",
        "\n",
        "tokenizer = Tokenizer(num_words=vocab_size, oov_token=oov_tok)\n",
        "tokenizer.fit_on_texts(training_sentences)\n",
        "\n",
        "word_index = tokenizer.word_index\n",
        "\n",
        "training_sequences = tokenizer.texts_to_sequences(training_sentences)\n",
        "training_padded = pad_sequences(training_sequences, maxlen=max_length, padding=padding_type, truncating=trunc_type)\n",
        "\n",
        "testing_sequences = tokenizer.texts_to_sequences(testing_sentences)\n",
        "testing_padded = pad_sequences(testing_sequences, maxlen=max_length, padding=padding_type, truncating=trunc_type)\n",
        "\n",
        "model = tf.keras.Sequential([\n",
        "    tf.keras.layers.Embedding(vocab_size, embedding_dim, input_length=max_length),\n",
        "    tf.keras.layers.Bidirectional(tf.keras.layers.LSTM(32)),\n",
        "    tf.keras.layers.Dense(24, activation='relu'),\n",
        "    tf.keras.layers.Dense(1, activation='sigmoid')\n",
        "])\n",
        "model.compile(loss='binary_crossentropy',optimizer='adam',metrics=['accuracy'])\n",
        "model.summary()\n",
        "\n",
        "num_epochs = 50\n",
        "training_padded = np.array(training_padded)\n",
        "training_labels = np.array(training_labels)\n",
        "testing_padded = np.array(testing_padded)\n",
        "testing_labels = np.array(testing_labels)\n",
        "history = model.fit(training_padded, training_labels, epochs=num_epochs, validation_data=(testing_padded, testing_labels), verbose=1)\n"
      ],
      "execution_count": 2,
      "outputs": [
        {
          "output_type": "stream",
          "text": [
            "--2021-04-24 05:43:32--  https://storage.googleapis.com/laurencemoroney-blog.appspot.com/sarcasm.json\n",
            "Resolving storage.googleapis.com (storage.googleapis.com)... 74.125.20.128, 74.125.142.128, 74.125.195.128, ...\n",
            "Connecting to storage.googleapis.com (storage.googleapis.com)|74.125.20.128|:443... connected.\n",
            "HTTP request sent, awaiting response... 200 OK\n",
            "Length: 5643545 (5.4M) [application/json]\n",
            "Saving to: ‘/tmp/sarcasm.json’\n",
            "\n",
            "\r/tmp/sarcasm.json     0%[                    ]       0  --.-KB/s               \r/tmp/sarcasm.json   100%[===================>]   5.38M  --.-KB/s    in 0.05s   \n",
            "\n",
            "2021-04-24 05:43:32 (104 MB/s) - ‘/tmp/sarcasm.json’ saved [5643545/5643545]\n",
            "\n",
            "Model: \"sequential\"\n",
            "_________________________________________________________________\n",
            "Layer (type)                 Output Shape              Param #   \n",
            "=================================================================\n",
            "embedding (Embedding)        (None, 120, 16)           16000     \n",
            "_________________________________________________________________\n",
            "bidirectional (Bidirectional (None, 64)                12544     \n",
            "_________________________________________________________________\n",
            "dense (Dense)                (None, 24)                1560      \n",
            "_________________________________________________________________\n",
            "dense_1 (Dense)              (None, 1)                 25        \n",
            "=================================================================\n",
            "Total params: 30,129\n",
            "Trainable params: 30,129\n",
            "Non-trainable params: 0\n",
            "_________________________________________________________________\n",
            "Epoch 1/50\n",
            "625/625 [==============================] - 43s 15ms/step - loss: 0.5523 - accuracy: 0.6824 - val_loss: 0.4000 - val_accuracy: 0.8137\n",
            "Epoch 2/50\n",
            "625/625 [==============================] - 8s 14ms/step - loss: 0.3507 - accuracy: 0.8406 - val_loss: 0.3762 - val_accuracy: 0.8265\n",
            "Epoch 3/50\n",
            "625/625 [==============================] - 8s 13ms/step - loss: 0.3368 - accuracy: 0.8490 - val_loss: 0.3848 - val_accuracy: 0.8246\n",
            "Epoch 4/50\n",
            "625/625 [==============================] - 8s 13ms/step - loss: 0.3114 - accuracy: 0.8614 - val_loss: 0.3713 - val_accuracy: 0.8326\n",
            "Epoch 5/50\n",
            "625/625 [==============================] - 8s 13ms/step - loss: 0.3027 - accuracy: 0.8653 - val_loss: 0.3861 - val_accuracy: 0.8277\n",
            "Epoch 6/50\n",
            "625/625 [==============================] - 8s 13ms/step - loss: 0.2935 - accuracy: 0.8692 - val_loss: 0.3838 - val_accuracy: 0.8304\n",
            "Epoch 7/50\n",
            "625/625 [==============================] - 8s 13ms/step - loss: 0.2813 - accuracy: 0.8755 - val_loss: 0.3781 - val_accuracy: 0.8325\n",
            "Epoch 8/50\n",
            "625/625 [==============================] - 8s 13ms/step - loss: 0.2742 - accuracy: 0.8818 - val_loss: 0.3918 - val_accuracy: 0.8301\n",
            "Epoch 9/50\n",
            "625/625 [==============================] - 8s 13ms/step - loss: 0.2645 - accuracy: 0.8850 - val_loss: 0.4082 - val_accuracy: 0.8290\n",
            "Epoch 10/50\n",
            "625/625 [==============================] - 9s 14ms/step - loss: 0.2575 - accuracy: 0.8921 - val_loss: 0.4006 - val_accuracy: 0.8319\n",
            "Epoch 11/50\n",
            "625/625 [==============================] - 8s 13ms/step - loss: 0.2400 - accuracy: 0.8974 - val_loss: 0.4219 - val_accuracy: 0.8268\n",
            "Epoch 12/50\n",
            "625/625 [==============================] - 8s 13ms/step - loss: 0.2314 - accuracy: 0.9001 - val_loss: 0.4104 - val_accuracy: 0.8259\n",
            "Epoch 13/50\n",
            "625/625 [==============================] - 8s 13ms/step - loss: 0.2264 - accuracy: 0.9059 - val_loss: 0.4306 - val_accuracy: 0.8256\n",
            "Epoch 14/50\n",
            "625/625 [==============================] - 8s 13ms/step - loss: 0.2214 - accuracy: 0.9084 - val_loss: 0.4586 - val_accuracy: 0.8220\n",
            "Epoch 15/50\n",
            "625/625 [==============================] - 8s 13ms/step - loss: 0.2235 - accuracy: 0.9058 - val_loss: 0.4861 - val_accuracy: 0.8229\n",
            "Epoch 16/50\n",
            "625/625 [==============================] - 8s 13ms/step - loss: 0.2100 - accuracy: 0.9162 - val_loss: 0.4725 - val_accuracy: 0.8171\n",
            "Epoch 17/50\n",
            "625/625 [==============================] - 9s 14ms/step - loss: 0.1995 - accuracy: 0.9189 - val_loss: 0.4966 - val_accuracy: 0.8199\n",
            "Epoch 18/50\n",
            "625/625 [==============================] - 8s 13ms/step - loss: 0.1916 - accuracy: 0.9225 - val_loss: 0.4855 - val_accuracy: 0.8183\n",
            "Epoch 19/50\n",
            "625/625 [==============================] - 8s 13ms/step - loss: 0.1899 - accuracy: 0.9251 - val_loss: 0.5393 - val_accuracy: 0.8186\n",
            "Epoch 20/50\n",
            "625/625 [==============================] - 8s 13ms/step - loss: 0.1815 - accuracy: 0.9256 - val_loss: 0.5875 - val_accuracy: 0.8155\n",
            "Epoch 21/50\n",
            "625/625 [==============================] - 8s 13ms/step - loss: 0.1689 - accuracy: 0.9323 - val_loss: 0.5555 - val_accuracy: 0.8149\n",
            "Epoch 22/50\n",
            "625/625 [==============================] - 8s 13ms/step - loss: 0.1640 - accuracy: 0.9358 - val_loss: 0.6420 - val_accuracy: 0.8058\n",
            "Epoch 23/50\n",
            "625/625 [==============================] - 9s 14ms/step - loss: 0.1650 - accuracy: 0.9350 - val_loss: 0.6337 - val_accuracy: 0.8073\n",
            "Epoch 24/50\n",
            "625/625 [==============================] - 9s 14ms/step - loss: 0.1536 - accuracy: 0.9417 - val_loss: 0.6532 - val_accuracy: 0.8062\n",
            "Epoch 25/50\n",
            "625/625 [==============================] - 8s 14ms/step - loss: 0.1653 - accuracy: 0.9346 - val_loss: 0.7178 - val_accuracy: 0.8058\n",
            "Epoch 26/50\n",
            "625/625 [==============================] - 9s 14ms/step - loss: 0.1465 - accuracy: 0.9444 - val_loss: 0.6981 - val_accuracy: 0.8062\n",
            "Epoch 27/50\n",
            "625/625 [==============================] - 8s 13ms/step - loss: 0.1446 - accuracy: 0.9406 - val_loss: 0.7376 - val_accuracy: 0.8052\n",
            "Epoch 28/50\n",
            "625/625 [==============================] - 8s 13ms/step - loss: 0.1344 - accuracy: 0.9481 - val_loss: 0.8002 - val_accuracy: 0.8083\n",
            "Epoch 29/50\n",
            "625/625 [==============================] - 8s 14ms/step - loss: 0.1303 - accuracy: 0.9501 - val_loss: 0.8617 - val_accuracy: 0.8012\n",
            "Epoch 30/50\n",
            "625/625 [==============================] - 8s 13ms/step - loss: 0.1322 - accuracy: 0.9482 - val_loss: 0.8649 - val_accuracy: 0.8077\n",
            "Epoch 31/50\n",
            "625/625 [==============================] - 9s 14ms/step - loss: 0.1254 - accuracy: 0.9490 - val_loss: 0.7676 - val_accuracy: 0.8053\n",
            "Epoch 32/50\n",
            "625/625 [==============================] - 8s 13ms/step - loss: 0.1187 - accuracy: 0.9539 - val_loss: 0.9490 - val_accuracy: 0.8035\n",
            "Epoch 33/50\n",
            "625/625 [==============================] - 8s 13ms/step - loss: 0.1134 - accuracy: 0.9558 - val_loss: 0.9508 - val_accuracy: 0.8056\n",
            "Epoch 34/50\n",
            "625/625 [==============================] - 8s 13ms/step - loss: 0.1077 - accuracy: 0.9553 - val_loss: 0.9860 - val_accuracy: 0.8046\n",
            "Epoch 35/50\n",
            "625/625 [==============================] - 8s 13ms/step - loss: 0.1022 - accuracy: 0.9577 - val_loss: 1.1256 - val_accuracy: 0.8000\n",
            "Epoch 36/50\n",
            "625/625 [==============================] - 8s 13ms/step - loss: 0.0981 - accuracy: 0.9606 - val_loss: 1.1551 - val_accuracy: 0.8004\n",
            "Epoch 37/50\n",
            "625/625 [==============================] - 9s 14ms/step - loss: 0.0957 - accuracy: 0.9614 - val_loss: 1.0849 - val_accuracy: 0.7983\n",
            "Epoch 38/50\n",
            "625/625 [==============================] - 9s 14ms/step - loss: 0.0904 - accuracy: 0.9624 - val_loss: 1.2056 - val_accuracy: 0.8043\n",
            "Epoch 39/50\n",
            "625/625 [==============================] - 8s 14ms/step - loss: 0.0950 - accuracy: 0.9594 - val_loss: 1.3030 - val_accuracy: 0.7992\n",
            "Epoch 40/50\n",
            "625/625 [==============================] - 8s 13ms/step - loss: 0.0932 - accuracy: 0.9614 - val_loss: 1.2315 - val_accuracy: 0.8009\n",
            "Epoch 41/50\n",
            "625/625 [==============================] - 8s 14ms/step - loss: 0.0825 - accuracy: 0.9655 - val_loss: 1.3520 - val_accuracy: 0.8055\n",
            "Epoch 42/50\n",
            "625/625 [==============================] - 8s 13ms/step - loss: 0.0826 - accuracy: 0.9665 - val_loss: 1.3346 - val_accuracy: 0.8016\n",
            "Epoch 43/50\n",
            "625/625 [==============================] - 8s 13ms/step - loss: 0.0826 - accuracy: 0.9638 - val_loss: 1.4934 - val_accuracy: 0.7989\n",
            "Epoch 44/50\n",
            "625/625 [==============================] - 8s 13ms/step - loss: 0.0732 - accuracy: 0.9698 - val_loss: 1.5091 - val_accuracy: 0.7982\n",
            "Epoch 45/50\n",
            "625/625 [==============================] - 9s 14ms/step - loss: 0.0711 - accuracy: 0.9692 - val_loss: 1.5044 - val_accuracy: 0.7991\n",
            "Epoch 46/50\n",
            "625/625 [==============================] - 8s 14ms/step - loss: 0.0706 - accuracy: 0.9694 - val_loss: 1.5246 - val_accuracy: 0.8021\n",
            "Epoch 47/50\n",
            "625/625 [==============================] - 8s 13ms/step - loss: 0.0686 - accuracy: 0.9702 - val_loss: 1.6922 - val_accuracy: 0.7985\n",
            "Epoch 48/50\n",
            "625/625 [==============================] - 8s 13ms/step - loss: 0.0718 - accuracy: 0.9685 - val_loss: 1.5467 - val_accuracy: 0.7968\n",
            "Epoch 49/50\n",
            "625/625 [==============================] - 8s 13ms/step - loss: 0.0643 - accuracy: 0.9717 - val_loss: 1.5652 - val_accuracy: 0.7979\n",
            "Epoch 50/50\n",
            "625/625 [==============================] - 8s 13ms/step - loss: 0.0714 - accuracy: 0.9709 - val_loss: 1.6039 - val_accuracy: 0.7915\n"
          ],
          "name": "stdout"
        }
      ]
    },
    {
      "cell_type": "code",
      "metadata": {
        "id": "g9DC6dmLF8DC",
        "colab": {
          "base_uri": "https://localhost:8080/",
          "height": 541
        },
        "outputId": "fec4a413-f04a-4922-d38e-ca23494da180"
      },
      "source": [
        "import matplotlib.pyplot as plt\n",
        "\n",
        "\n",
        "def plot_graphs(history, string):\n",
        "  plt.plot(history.history[string])\n",
        "  plt.plot(history.history['val_'+string])\n",
        "  plt.xlabel(\"Epochs\")\n",
        "  plt.ylabel(string)\n",
        "  plt.legend([string, 'val_'+string])\n",
        "  plt.show()\n",
        "\n",
        "plot_graphs(history, 'accuracy')\n",
        "plot_graphs(history, 'loss')"
      ],
      "execution_count": 3,
      "outputs": [
        {
          "output_type": "display_data",
          "data": {
            "image/png": "[encoded data removed]",
            "text/plain": [
              "<Figure size 432x288 with 1 Axes>"
            ]
          },
          "metadata": {
            "tags": [],
            "needs_background": "light"
          }
        },
        {
          "output_type": "display_data",
          "data": {
            "image/png": "[encoded data removed]",
            "text/plain": [
              "<Figure size 432x288 with 1 Axes>"
            ]
          },
          "metadata": {
            "tags": [],
            "needs_background": "light"
          }
        }
      ]
    },
    {
      "cell_type": "code",
      "metadata": {
        "id": "7ZEZIUppGhdi"
      },
      "source": [
        "model.save(\"test.h5\")"
      ],
      "execution_count": 4,
      "outputs": []
    }
  ]
}